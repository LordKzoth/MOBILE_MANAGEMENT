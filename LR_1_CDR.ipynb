{
 "cells": [
  {
   "cell_type": "markdown",
   "metadata": {},
   "source": [
    "# Лабораторная работа №1\n",
    "## Вариант 6\n",
    "Протарифицировать абонента с номером <b>968247916</b> с коэффициентом k: 4руб/минута исходящие звонки, \n",
    "\n",
    "0руб/минута входящие первые 5 минут, далее 1руб/минута, \n",
    "\n",
    "смс - первые 5шт бесплатно, далее 1руб/шт"
   ]
  },
  {
   "cell_type": "code",
   "execution_count": 1,
   "metadata": {},
   "outputs": [],
   "source": [
    "import pandas as pd"
   ]
  },
  {
   "cell_type": "code",
   "execution_count": 2,
   "metadata": {},
   "outputs": [
    {
     "name": "stdout",
     "output_type": "stream",
     "text": [
      "Количество строк в таблице: 9\n"
     ]
    },
    {
     "data": {
      "text/html": [
       "<div>\n",
       "<style scoped>\n",
       "    .dataframe tbody tr th:only-of-type {\n",
       "        vertical-align: middle;\n",
       "    }\n",
       "\n",
       "    .dataframe tbody tr th {\n",
       "        vertical-align: top;\n",
       "    }\n",
       "\n",
       "    .dataframe thead th {\n",
       "        text-align: right;\n",
       "    }\n",
       "</style>\n",
       "<table border=\"1\" class=\"dataframe\">\n",
       "  <thead>\n",
       "    <tr style=\"text-align: right;\">\n",
       "      <th></th>\n",
       "      <th>timestamp</th>\n",
       "      <th>msisdn_origin</th>\n",
       "      <th>msisdn_dest</th>\n",
       "      <th>call_duration</th>\n",
       "      <th>sms_number</th>\n",
       "    </tr>\n",
       "  </thead>\n",
       "  <tbody>\n",
       "    <tr>\n",
       "      <th>0</th>\n",
       "      <td>2020-01-01 00:00:00</td>\n",
       "      <td>915783624</td>\n",
       "      <td>911926375</td>\n",
       "      <td>36.23</td>\n",
       "      <td>15</td>\n",
       "    </tr>\n",
       "    <tr>\n",
       "      <th>1</th>\n",
       "      <td>2020-01-01 00:05:00</td>\n",
       "      <td>911926375</td>\n",
       "      <td>968247916</td>\n",
       "      <td>9.20</td>\n",
       "      <td>5</td>\n",
       "    </tr>\n",
       "    <tr>\n",
       "      <th>2</th>\n",
       "      <td>2020-01-01 00:10:00</td>\n",
       "      <td>936415793</td>\n",
       "      <td>915642913</td>\n",
       "      <td>7.52</td>\n",
       "      <td>24</td>\n",
       "    </tr>\n",
       "    <tr>\n",
       "      <th>3</th>\n",
       "      <td>2020-01-01 00:15:00</td>\n",
       "      <td>914976835</td>\n",
       "      <td>914976835</td>\n",
       "      <td>96.70</td>\n",
       "      <td>97</td>\n",
       "    </tr>\n",
       "    <tr>\n",
       "      <th>4</th>\n",
       "      <td>2020-01-01 00:20:00</td>\n",
       "      <td>962365794</td>\n",
       "      <td>933156729</td>\n",
       "      <td>110.44</td>\n",
       "      <td>15</td>\n",
       "    </tr>\n",
       "  </tbody>\n",
       "</table>\n",
       "</div>"
      ],
      "text/plain": [
       "             timestamp  msisdn_origin  msisdn_dest  call_duration  sms_number\n",
       "0  2020-01-01 00:00:00      915783624    911926375          36.23          15\n",
       "1  2020-01-01 00:05:00      911926375    968247916           9.20           5\n",
       "2  2020-01-01 00:10:00      936415793    915642913           7.52          24\n",
       "3  2020-01-01 00:15:00      914976835    914976835          96.70          97\n",
       "4  2020-01-01 00:20:00      962365794    933156729         110.44          15"
      ]
     },
     "execution_count": 2,
     "metadata": {},
     "output_type": "execute_result"
    }
   ],
   "source": [
    "df = pd.read_csv('data.csv')\n",
    "print('Количество строк в таблице: {}'.format(len(df)))\n",
    "df[:5]"
   ]
  },
  {
   "cell_type": "code",
   "execution_count": 3,
   "metadata": {
    "scrolled": true
   },
   "outputs": [
    {
     "data": {
      "text/html": [
       "<div>\n",
       "<style scoped>\n",
       "    .dataframe tbody tr th:only-of-type {\n",
       "        vertical-align: middle;\n",
       "    }\n",
       "\n",
       "    .dataframe tbody tr th {\n",
       "        vertical-align: top;\n",
       "    }\n",
       "\n",
       "    .dataframe thead th {\n",
       "        text-align: right;\n",
       "    }\n",
       "</style>\n",
       "<table border=\"1\" class=\"dataframe\">\n",
       "  <thead>\n",
       "    <tr style=\"text-align: right;\">\n",
       "      <th></th>\n",
       "      <th>timestamp</th>\n",
       "      <th>msisdn_origin</th>\n",
       "      <th>msisdn_dest</th>\n",
       "      <th>call_duration</th>\n",
       "      <th>sms_number</th>\n",
       "    </tr>\n",
       "  </thead>\n",
       "  <tbody>\n",
       "    <tr>\n",
       "      <th>0</th>\n",
       "      <td>2020-01-01 00:00:00</td>\n",
       "      <td>915783624</td>\n",
       "      <td>911926375</td>\n",
       "      <td>36.23</td>\n",
       "      <td>15</td>\n",
       "    </tr>\n",
       "    <tr>\n",
       "      <th>1</th>\n",
       "      <td>2020-01-01 00:05:00</td>\n",
       "      <td>911926375</td>\n",
       "      <td>968247916</td>\n",
       "      <td>9.20</td>\n",
       "      <td>5</td>\n",
       "    </tr>\n",
       "    <tr>\n",
       "      <th>2</th>\n",
       "      <td>2020-01-01 00:10:00</td>\n",
       "      <td>936415793</td>\n",
       "      <td>915642913</td>\n",
       "      <td>7.52</td>\n",
       "      <td>24</td>\n",
       "    </tr>\n",
       "    <tr>\n",
       "      <th>3</th>\n",
       "      <td>2020-01-01 00:15:00</td>\n",
       "      <td>914976835</td>\n",
       "      <td>914976835</td>\n",
       "      <td>96.70</td>\n",
       "      <td>97</td>\n",
       "    </tr>\n",
       "    <tr>\n",
       "      <th>4</th>\n",
       "      <td>2020-01-01 00:20:00</td>\n",
       "      <td>962365794</td>\n",
       "      <td>933156729</td>\n",
       "      <td>110.44</td>\n",
       "      <td>15</td>\n",
       "    </tr>\n",
       "    <tr>\n",
       "      <th>5</th>\n",
       "      <td>2020-01-01 00:25:00</td>\n",
       "      <td>966714385</td>\n",
       "      <td>915783624</td>\n",
       "      <td>12.34</td>\n",
       "      <td>5</td>\n",
       "    </tr>\n",
       "    <tr>\n",
       "      <th>6</th>\n",
       "      <td>2020-01-01 00:30:00</td>\n",
       "      <td>968247916</td>\n",
       "      <td>962365794</td>\n",
       "      <td>91.48</td>\n",
       "      <td>57</td>\n",
       "    </tr>\n",
       "    <tr>\n",
       "      <th>7</th>\n",
       "      <td>2020-01-01 00:35:00</td>\n",
       "      <td>933156729</td>\n",
       "      <td>936415793</td>\n",
       "      <td>83.22</td>\n",
       "      <td>73</td>\n",
       "    </tr>\n",
       "    <tr>\n",
       "      <th>8</th>\n",
       "      <td>2020-01-01 00:40:00</td>\n",
       "      <td>915642913</td>\n",
       "      <td>966714385</td>\n",
       "      <td>85.70</td>\n",
       "      <td>18</td>\n",
       "    </tr>\n",
       "  </tbody>\n",
       "</table>\n",
       "</div>"
      ],
      "text/plain": [
       "             timestamp  msisdn_origin  msisdn_dest  call_duration  sms_number\n",
       "0  2020-01-01 00:00:00      915783624    911926375          36.23          15\n",
       "1  2020-01-01 00:05:00      911926375    968247916           9.20           5\n",
       "2  2020-01-01 00:10:00      936415793    915642913           7.52          24\n",
       "3  2020-01-01 00:15:00      914976835    914976835          96.70          97\n",
       "4  2020-01-01 00:20:00      962365794    933156729         110.44          15\n",
       "5  2020-01-01 00:25:00      966714385    915783624          12.34           5\n",
       "6  2020-01-01 00:30:00      968247916    962365794          91.48          57\n",
       "7  2020-01-01 00:35:00      933156729    936415793          83.22          73\n",
       "8  2020-01-01 00:40:00      915642913    966714385          85.70          18"
      ]
     },
     "execution_count": 3,
     "metadata": {},
     "output_type": "execute_result"
    }
   ],
   "source": [
    "df"
   ]
  },
  {
   "cell_type": "markdown",
   "metadata": {},
   "source": [
    "* timestamp - время звонка\n",
    "* msisdn_origin - кто совершил звонок\n",
    "* msisdn_dest - кому звонили\n",
    "* call_duration - длительность звонка в минутах\n",
    "* sms_number - количество отправленных смс для абонента msisdn_origin\n"
   ]
  },
  {
   "cell_type": "code",
   "execution_count": 4,
   "metadata": {},
   "outputs": [
    {
     "name": "stdout",
     "output_type": "stream",
     "text": [
      "Все абоненты:\n",
      "[911926375, 914976835, 915642913, 915783624, 933156729, 936415793, 962365794, 966714385, 968247916]\n"
     ]
    }
   ],
   "source": [
    "# Перечень абонентов\n",
    "abon = set()\n",
    "\n",
    "for v in df['msisdn_origin']:\n",
    "    abon.add(v)\n",
    "for v in df['msisdn_dest']:\n",
    "    abon.add(v)\n",
    "\n",
    "abon = sorted(list(abon))\n",
    "print('Все абоненты:')\n",
    "print(abon)"
   ]
  },
  {
   "cell_type": "code",
   "execution_count": 5,
   "metadata": {},
   "outputs": [],
   "source": [
    "abon_number = 968247916\n",
    "k_call = [4, 0, 1] # [outgoing calls, incoming calls - first 5 minutes, incoming calls - after 5 minutes] per minute\n",
    "k_sms  = [0, 1]    # [First 5 sms, After 5 sms] per sms"
   ]
  },
  {
   "cell_type": "markdown",
   "metadata": {},
   "source": [
    "### Исходящие"
   ]
  },
  {
   "cell_type": "code",
   "execution_count": 6,
   "metadata": {},
   "outputs": [
    {
     "data": {
      "text/html": [
       "<div>\n",
       "<style scoped>\n",
       "    .dataframe tbody tr th:only-of-type {\n",
       "        vertical-align: middle;\n",
       "    }\n",
       "\n",
       "    .dataframe tbody tr th {\n",
       "        vertical-align: top;\n",
       "    }\n",
       "\n",
       "    .dataframe thead th {\n",
       "        text-align: right;\n",
       "    }\n",
       "</style>\n",
       "<table border=\"1\" class=\"dataframe\">\n",
       "  <thead>\n",
       "    <tr style=\"text-align: right;\">\n",
       "      <th></th>\n",
       "      <th>timestamp</th>\n",
       "      <th>msisdn_origin</th>\n",
       "      <th>msisdn_dest</th>\n",
       "      <th>call_duration</th>\n",
       "      <th>sms_number</th>\n",
       "    </tr>\n",
       "  </thead>\n",
       "  <tbody>\n",
       "    <tr>\n",
       "      <th>6</th>\n",
       "      <td>2020-01-01 00:30:00</td>\n",
       "      <td>968247916</td>\n",
       "      <td>962365794</td>\n",
       "      <td>91.48</td>\n",
       "      <td>57</td>\n",
       "    </tr>\n",
       "  </tbody>\n",
       "</table>\n",
       "</div>"
      ],
      "text/plain": [
       "             timestamp  msisdn_origin  msisdn_dest  call_duration  sms_number\n",
       "6  2020-01-01 00:30:00      968247916    962365794          91.48          57"
      ]
     },
     "execution_count": 6,
     "metadata": {},
     "output_type": "execute_result"
    }
   ],
   "source": [
    "outgoing = df[df['msisdn_origin'] == abon_number].copy()\n",
    "outgoing"
   ]
  },
  {
   "cell_type": "code",
   "execution_count": 7,
   "metadata": {},
   "outputs": [
    {
     "data": {
      "text/plain": [
       "array([91.48])"
      ]
     },
     "execution_count": 7,
     "metadata": {},
     "output_type": "execute_result"
    }
   ],
   "source": [
    "out_calls = outgoing['call_duration'].values\n",
    "out_calls"
   ]
  },
  {
   "cell_type": "code",
   "execution_count": 8,
   "metadata": {},
   "outputs": [
    {
     "data": {
      "text/plain": [
       "array([57], dtype=int64)"
      ]
     },
     "execution_count": 8,
     "metadata": {},
     "output_type": "execute_result"
    }
   ],
   "source": [
    "sms = outgoing['sms_number'].values\n",
    "sms"
   ]
  },
  {
   "cell_type": "markdown",
   "metadata": {},
   "source": [
    "### Входящие"
   ]
  },
  {
   "cell_type": "code",
   "execution_count": 9,
   "metadata": {},
   "outputs": [
    {
     "data": {
      "text/html": [
       "<div>\n",
       "<style scoped>\n",
       "    .dataframe tbody tr th:only-of-type {\n",
       "        vertical-align: middle;\n",
       "    }\n",
       "\n",
       "    .dataframe tbody tr th {\n",
       "        vertical-align: top;\n",
       "    }\n",
       "\n",
       "    .dataframe thead th {\n",
       "        text-align: right;\n",
       "    }\n",
       "</style>\n",
       "<table border=\"1\" class=\"dataframe\">\n",
       "  <thead>\n",
       "    <tr style=\"text-align: right;\">\n",
       "      <th></th>\n",
       "      <th>timestamp</th>\n",
       "      <th>msisdn_origin</th>\n",
       "      <th>msisdn_dest</th>\n",
       "      <th>call_duration</th>\n",
       "      <th>sms_number</th>\n",
       "    </tr>\n",
       "  </thead>\n",
       "  <tbody>\n",
       "    <tr>\n",
       "      <th>1</th>\n",
       "      <td>2020-01-01 00:05:00</td>\n",
       "      <td>911926375</td>\n",
       "      <td>968247916</td>\n",
       "      <td>9.2</td>\n",
       "      <td>5</td>\n",
       "    </tr>\n",
       "  </tbody>\n",
       "</table>\n",
       "</div>"
      ],
      "text/plain": [
       "             timestamp  msisdn_origin  msisdn_dest  call_duration  sms_number\n",
       "1  2020-01-01 00:05:00      911926375    968247916            9.2           5"
      ]
     },
     "execution_count": 9,
     "metadata": {},
     "output_type": "execute_result"
    }
   ],
   "source": [
    "incoming = df[df['msisdn_dest'] == abon_number].copy()\n",
    "incoming"
   ]
  },
  {
   "cell_type": "code",
   "execution_count": 10,
   "metadata": {},
   "outputs": [
    {
     "data": {
      "text/plain": [
       "array([9.2])"
      ]
     },
     "execution_count": 10,
     "metadata": {},
     "output_type": "execute_result"
    }
   ],
   "source": [
    "in_calls = out_calls = incoming['call_duration'].values\n",
    "in_calls"
   ]
  },
  {
   "cell_type": "markdown",
   "metadata": {},
   "source": [
    "# Тарификация"
   ]
  },
  {
   "cell_type": "code",
   "execution_count": 11,
   "metadata": {},
   "outputs": [],
   "source": [
    "def tariff(outgoing, incoming):\n",
    "    # Get necessary values from data\n",
    "    out_calls = outgoing['call_duration'].values\n",
    "    sms = outgoing['sms_number'].values\n",
    "    in_calls = incoming['call_duration'].values\n",
    "    \n",
    "    # Calculate amount\n",
    "    out_calls_sum = sum([v * 4 for v in out_calls])\n",
    "    in_calls_sum  = sum([5*0 + (v-5)*1 if v>=5 else 0 for v in in_calls])\n",
    "    sms_sum       = sum([5*0 + (v-5)*1 if v>=5 else 0 for v in sms])\n",
    "    amount =  out_calls_sum + in_calls_sum + sms_sum\n",
    "    \n",
    "    return amount"
   ]
  },
  {
   "cell_type": "code",
   "execution_count": 12,
   "metadata": {},
   "outputs": [
    {
     "name": "stdout",
     "output_type": "stream",
     "text": [
      "Итоговая сумма: 422.12\n"
     ]
    }
   ],
   "source": [
    "print('Итоговая сумма: {:.2f}'.format(tariff(outgoing, incoming)))"
   ]
  }
 ],
 "metadata": {
  "kernelspec": {
   "display_name": "Python 3",
   "language": "python",
   "name": "python3"
  },
  "language_info": {
   "codemirror_mode": {
    "name": "ipython",
    "version": 3
   },
   "file_extension": ".py",
   "mimetype": "text/x-python",
   "name": "python",
   "nbconvert_exporter": "python",
   "pygments_lexer": "ipython3",
   "version": "3.7.5"
  }
 },
 "nbformat": 4,
 "nbformat_minor": 2
}
